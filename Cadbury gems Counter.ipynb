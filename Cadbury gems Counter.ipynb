{
 "cells": [
  {
   "cell_type": "code",
   "execution_count": 11,
   "id": "c53fb770",
   "metadata": {},
   "outputs": [],
   "source": [
    "import cv2"
   ]
  },
  {
   "cell_type": "code",
   "execution_count": 12,
   "id": "56b836d2",
   "metadata": {},
   "outputs": [],
   "source": [
    "image = cv2.imread('images/gems.jpg')\n",
    "cv2.imshow('input', image)\n",
    "cv2.waitKey()\n",
    "cv2.destroyAllWindows()"
   ]
  },
  {
   "cell_type": "code",
   "execution_count": 13,
   "id": "82bed41f",
   "metadata": {},
   "outputs": [],
   "source": [
    "gray = cv2.cvtColor(image, cv2.COLOR_BGR2GRAY)\n",
    "cv2.imshow('input', gray)\n",
    "cv2.waitKey()\n",
    "cv2.destroyAllWindows()"
   ]
  },
  {
   "cell_type": "code",
   "execution_count": 14,
   "id": "46d75573",
   "metadata": {},
   "outputs": [],
   "source": [
    "blurred = cv2.GaussianBlur(gray, (11, 11), None)\n",
    "retVal, binary = cv2.threshold(blurred, 200, 255, cv2.THRESH_BINARY)\n",
    "\n",
    "cv2.imshow('binary', binary)\n",
    "cv2.waitKey()\n",
    "cv2.destroyAllWindows()"
   ]
  },
  {
   "cell_type": "code",
   "execution_count": 15,
   "id": "139e6a94",
   "metadata": {},
   "outputs": [],
   "source": [
    "#Adaptive threshold\n",
    "binary = cv2.adaptiveThreshold(blurred, 255, cv2.ADAPTIVE_THRESH_GAUSSIAN_C, cv2.THRESH_BINARY_INV, 13, 2)\n",
    "\n",
    "cv2.imshow('binary', binary)\n",
    "cv2.waitKey()\n",
    "cv2.destroyAllWindows()\n"
   ]
  },
  {
   "cell_type": "code",
   "execution_count": 16,
   "id": "025638c0",
   "metadata": {},
   "outputs": [],
   "source": [
    "## Finding contours\n",
    "circles, branches = cv2.findContours(binary, cv2.RETR_EXTERNAL, cv2.CHAIN_APPROX_SIMPLE)\n",
    "#print(branches)\n",
    "\n"
   ]
  },
  {
   "cell_type": "code",
   "execution_count": 17,
   "id": "dfd9724c",
   "metadata": {},
   "outputs": [],
   "source": [
    "#circles[0]\n",
    "#\n",
    "#area1 = cv2.contourArea"
   ]
  },
  {
   "cell_type": "code",
   "execution_count": 18,
   "id": "66310d52",
   "metadata": {},
   "outputs": [],
   "source": [
    "#cv2.drawContours(image, circles, -1, (0,0,255),1)\n",
    "#cv2.imshow(\"contour identified\", image)\n",
    "#cv2.waitKey()\n",
    "#cv2.destroyAllWindows()"
   ]
  },
  {
   "cell_type": "code",
   "execution_count": null,
   "id": "e67e7c80",
   "metadata": {},
   "outputs": [],
   "source": []
  },
  {
   "cell_type": "code",
   "execution_count": 19,
   "id": "dd22de55",
   "metadata": {},
   "outputs": [
    {
     "name": "stdout",
     "output_type": "stream",
     "text": [
      "25\n"
     ]
    }
   ],
   "source": [
    "gems_count = 0\n",
    "gems_identified = []\n",
    "\n",
    "\n",
    "for i, circle in enumerate(circles):\n",
    "    area = cv2.contourArea(circle)\n",
    "    if (area > 8):\n",
    "        #print('taking count of gems')\n",
    "        #print(area)\n",
    "        gems_identified.append(circle)\n",
    "        cv2.drawContours(image, gems_identified, -1, (0,255,0),1)\n",
    "        cv2.imshow(\"contour identified\", image)\n",
    "        cv2.waitKey(200)\n",
    "        cv2.destroyAllWindows()\n",
    "        gems_count+=1\n",
    "print(gems_count)"
   ]
  },
  {
   "cell_type": "code",
   "execution_count": 20,
   "id": "939bce51",
   "metadata": {},
   "outputs": [],
   "source": [
    "newimage = cv2.putText(image, \"Number of cadbury : {}\".format(gems_count), (15,20), cv2.FONT_HERSHEY_COMPLEX, 1, (255,0,0),1)\n",
    "\n",
    "#cv2.drawContours(image, gems_identified, -1, , (255. 0, 0),1)\n",
    "cv2.imshow(\"contour identified\", newimage)\n",
    "cv2.waitKey()\n",
    "cv2.destroyAllWindows()"
   ]
  },
  {
   "cell_type": "code",
   "execution_count": null,
   "id": "948c099c",
   "metadata": {},
   "outputs": [],
   "source": []
  },
  {
   "cell_type": "code",
   "execution_count": null,
   "id": "86d53400",
   "metadata": {},
   "outputs": [],
   "source": []
  }
 ],
 "metadata": {
  "kernelspec": {
   "display_name": "Python 3 (ipykernel)",
   "language": "python",
   "name": "python3"
  },
  "language_info": {
   "codemirror_mode": {
    "name": "ipython",
    "version": 3
   },
   "file_extension": ".py",
   "mimetype": "text/x-python",
   "name": "python",
   "nbconvert_exporter": "python",
   "pygments_lexer": "ipython3",
   "version": "3.8.11"
  }
 },
 "nbformat": 4,
 "nbformat_minor": 5
}
