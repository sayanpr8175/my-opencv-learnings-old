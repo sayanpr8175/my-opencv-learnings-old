{
 "cells": [
  {
   "cell_type": "markdown",
   "id": "503c0192",
   "metadata": {},
   "source": [
    "###### project reference - udemy course (udemy.com/course/opencv-fundamentals)"
   ]
  },
  {
   "cell_type": "code",
   "execution_count": 1,
   "id": "ae3e6f57",
   "metadata": {},
   "outputs": [],
   "source": [
    "import cv2"
   ]
  },
  {
   "cell_type": "code",
   "execution_count": 2,
   "id": "b85d0e9d",
   "metadata": {},
   "outputs": [],
   "source": [
    "image = cv2.imread('./images/carromBoard_1.jpg')\n",
    "blurred = cv2.GaussianBlur(image, (3,3), None)"
   ]
  },
  {
   "cell_type": "code",
   "execution_count": 3,
   "id": "55dd71dd",
   "metadata": {},
   "outputs": [],
   "source": [
    "cv2.imshow('output', image)\n",
    "cv2.waitKey()\n",
    "cv2.destroyAllWindows()\n",
    "cv2.imshow('blurred', blurred)\n",
    "cv2.waitKey()\n",
    "cv2.destroyAllWindows()"
   ]
  },
  {
   "cell_type": "code",
   "execution_count": 70,
   "id": "b00006b5",
   "metadata": {},
   "outputs": [],
   "source": [
    "## Take the snapshot of queen and check its color value"
   ]
  },
  {
   "cell_type": "code",
   "execution_count": 71,
   "id": "3e255c9b",
   "metadata": {},
   "outputs": [],
   "source": [
    "#queen = cv2.imread('images/queenSnapshot.PNG')\n",
    "#queen_mean = cv2.mean(queen)\n",
    "#print(queen_mean)\n",
    "#queen_lab = cv2.cvtColor(queen, cv2.COLOR_BGR2LAB)\n",
    "#print(cv2.mean(queen_lab))"
   ]
  },
  {
   "cell_type": "code",
   "execution_count": 4,
   "id": "15297618",
   "metadata": {},
   "outputs": [],
   "source": [
    "queen_lab = cv2.cvtColor(image, cv2.COLOR_BGR2LAB)\n",
    "binary_image = cv2.inRange(queen_lab, (0, 160, 145), (255, 175, 155))\n",
    "cv2.imshow('output', binary_image)\n",
    "cv2.waitKey()\n",
    "cv2.destroyAllWindows()"
   ]
  },
  {
   "cell_type": "code",
   "execution_count": 5,
   "id": "dfaf8b7b",
   "metadata": {},
   "outputs": [
    {
     "name": "stdout",
     "output_type": "stream",
     "text": [
      "262.0\n"
     ]
    }
   ],
   "source": [
    "Contours, tree = cv2.findContours(binary_image, cv2.RETR_EXTERNAL, cv2.CHAIN_APPROX_SIMPLE)\n",
    "\n",
    "## find the biggest contours to eliminate the smallest area\n",
    "\n",
    "largestContour = max(Contours, key=cv2.contourArea)\n",
    "largestArea = cv2.contourArea(largestContour)\n",
    "print(largestArea)\n"
   ]
  },
  {
   "cell_type": "code",
   "execution_count": null,
   "id": "0133c02a",
   "metadata": {},
   "outputs": [],
   "source": [
    "if(largestArea<50):\n",
    "    cv2.putText(image, \"No queen found\", (30, 30), cv2.FONT_HERSHEY_COMPLEX, 1 ,(0, 255, 0),1)\n",
    "else:\n",
    "    cv2.drawContours(image, [largestContour], 0, (0, 255, 0), 1)\n",
    "    cv2.putText(image, \"Queen found\", (30, 30), cv2.FONT_HERSHEY_COMPLEX, 1, (0, 255, 0), 1)\n",
    "\n",
    "cv2.imshow(\"Queen founder\",image)\n",
    "cv2.waitKey()\n",
    "cv2.destroyAllWindows()"
   ]
  },
  {
   "cell_type": "code",
   "execution_count": null,
   "id": "23b65707",
   "metadata": {},
   "outputs": [],
   "source": []
  }
 ],
 "metadata": {
  "kernelspec": {
   "display_name": "Python 3 (ipykernel)",
   "language": "python",
   "name": "python3"
  },
  "language_info": {
   "codemirror_mode": {
    "name": "ipython",
    "version": 3
   },
   "file_extension": ".py",
   "mimetype": "text/x-python",
   "name": "python",
   "nbconvert_exporter": "python",
   "pygments_lexer": "ipython3",
   "version": "3.8.11"
  }
 },
 "nbformat": 4,
 "nbformat_minor": 5
}
