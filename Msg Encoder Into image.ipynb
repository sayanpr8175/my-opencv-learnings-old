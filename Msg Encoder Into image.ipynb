{
 "cells": [
  {
   "cell_type": "code",
   "execution_count": 3,
   "id": "8761268c",
   "metadata": {},
   "outputs": [],
   "source": [
    "import cv2\n",
    "import numpy as np"
   ]
  },
  {
   "cell_type": "code",
   "execution_count": 4,
   "id": "44f7f2cc",
   "metadata": {},
   "outputs": [
    {
     "name": "stdout",
     "output_type": "stream",
     "text": [
      "Enter encryption key. Only digits from 0 to 1332 1300\n",
      "Enter encryption key. Only digits from 0 to 1970 1\n",
      "Enter your secret message here ! Holakv shkbhsbvm sjnsvhv Holakv shkbhsbvm sjnsvhv Holakv shkbhsbvm sjnsvhv\n",
      "Encoding Successful\n"
     ]
    }
   ],
   "source": [
    "#read the image\n",
    "#imgsrc = input()\n",
    "\n",
    "image = cv2.imread('images/goldengate.jpg')\n",
    "image_cpy = image.copy()\n",
    "keyrange_1 = int(image.shape[0])\n",
    "keyrange_2 = int(image.shape[1])\n",
    "\n",
    "#print(image.shape)\n",
    "\n",
    "rowKey = int(input(\"Enter encryption key. Only digits from 0 to {} \".format(keyrange_1-1)))\n",
    "colKey = int(input(\"Enter encryption key. Only digits from 0 to {} \".format(keyrange_2-30)))\n",
    "rowKey_cpy = rowKey\n",
    "colKey_cpy = colKey\n",
    "\n",
    "#print(image[rowKey][colKey])\n",
    "\n",
    "msg = input(\"Enter your secret message here ! \") # Hola in thre sgegik hdadat\n",
    "\n",
    "#Converting chars in msg in ASCII numbers\n",
    "\n",
    "for chars in msg:\n",
    "    #print(chars, ord(chars))\n",
    "    image[rowKey][colKey] = [ord(chars), ord(chars), ord(chars)]\n",
    "    #print(image[rowKey][colKey])\n",
    "    colKey = colKey+1\n",
    "\n",
    "print(\"Encoding Successful\" if(cv2.imwrite(\"encodedimage.png\",image)) else \"Encoding not successful\")\n"
   ]
  },
  {
   "cell_type": "code",
   "execution_count": null,
   "id": "9117e172",
   "metadata": {},
   "outputs": [],
   "source": []
  },
  {
   "cell_type": "code",
   "execution_count": null,
   "id": "8f020c02",
   "metadata": {},
   "outputs": [],
   "source": []
  },
  {
   "cell_type": "code",
   "execution_count": null,
   "id": "b5ffd049",
   "metadata": {},
   "outputs": [],
   "source": []
  }
 ],
 "metadata": {
  "kernelspec": {
   "display_name": "Python 3 (ipykernel)",
   "language": "python",
   "name": "python3"
  },
  "language_info": {
   "codemirror_mode": {
    "name": "ipython",
    "version": 3
   },
   "file_extension": ".py",
   "mimetype": "text/x-python",
   "name": "python",
   "nbconvert_exporter": "python",
   "pygments_lexer": "ipython3",
   "version": "3.8.11"
  }
 },
 "nbformat": 4,
 "nbformat_minor": 5
}
