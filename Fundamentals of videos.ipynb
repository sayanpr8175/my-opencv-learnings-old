{
 "cells": [
  {
   "cell_type": "code",
   "execution_count": null,
   "id": "7ac076c5",
   "metadata": {},
   "outputs": [],
   "source": [
    "import cv2\n",
    "import numpy as np\n",
    "from datetime import datetime as dt"
   ]
  },
  {
   "cell_type": "code",
   "execution_count": null,
   "id": "29b8d2cc",
   "metadata": {},
   "outputs": [],
   "source": [
    "#video = cv2.VideoCapture('images/SanFransisco.mp4')\n",
    "video = cv2.VideoCapture(0) # access to camera\n",
    "cap, frame = video.read()"
   ]
  },
  {
   "cell_type": "code",
   "execution_count": null,
   "id": "c4f316b7",
   "metadata": {},
   "outputs": [],
   "source": [
    "#print(frame)\n",
    "while cap==True:\n",
    "    cap, frame = video.read()\n",
    "    current_time = dt.now()\n",
    "    if(cap==False):\n",
    "        break\n",
    "    cv2.putText(frame, \"This is from camera {}\".format(current_time), (30,30), cv2.FONT_HERSHEY_COMPLEX,1,(255, 255, 255))\n",
    "    cv2.imshow('output', frame)\n",
    "    cv2.waitKey(1)\n",
    "cv2.destroyAllWindows()"
   ]
  },
  {
   "cell_type": "code",
   "execution_count": null,
   "id": "dcd1b375",
   "metadata": {},
   "outputs": [],
   "source": [
    "## Save a video\n",
    "import cv2\n",
    "import numpy as np\n",
    "from datetime import datetime as dt"
   ]
  },
  {
   "cell_type": "code",
   "execution_count": null,
   "id": "58b2bcee",
   "metadata": {},
   "outputs": [],
   "source": [
    "\n",
    "video = cv2.VideoCapture(0) # access to camera\n",
    "cap, frame = video.read()\n",
    "original_fps = int(video.get(cv2.CAP_PROP_FPS))\n",
    "original_width = int(video.get(cv2.CAP_PROP_FRAME_WIDTH))\n",
    "original_height = int(video.get(cv2.CAP_PROP_FRAME_HEIGHT))\n",
    "\n",
    "\n",
    "fourcc = cv2.VideoWriter_fourcc('M','J','P','G')\n",
    "writer = cv2.VideoWriter(\"recorded.avi\", fourcc,original_fps, (original_width, original_height), True)\n",
    "\n",
    "#print(frame)\n",
    "while True:\n",
    "    cap, frame = video.read()\n",
    "    current_time = dt.now()\n",
    "    if(cap==False):\n",
    "        break\n",
    "    else:\n",
    "        cv2.putText(frame, \"Date & Time : {}\".format(current_time), (20,20), cv2.FONT_HERSHEY_COMPLEX,1,(255, 255, 255))\n",
    "        cv2.imshow('output', frame)\n",
    "        cv2.waitKey(1)\n",
    "cv2.destroyAllWindows()\n"
   ]
  },
  {
   "cell_type": "code",
   "execution_count": null,
   "id": "3ff4ac5b",
   "metadata": {},
   "outputs": [],
   "source": []
  },
  {
   "cell_type": "code",
   "execution_count": null,
   "id": "b9b08bab",
   "metadata": {},
   "outputs": [],
   "source": []
  },
  {
   "cell_type": "code",
   "execution_count": null,
   "id": "f2f0e8b7",
   "metadata": {},
   "outputs": [],
   "source": []
  }
 ],
 "metadata": {
  "kernelspec": {
   "display_name": "Python 3 (ipykernel)",
   "language": "python",
   "name": "python3"
  },
  "language_info": {
   "codemirror_mode": {
    "name": "ipython",
    "version": 3
   },
   "file_extension": ".py",
   "mimetype": "text/x-python",
   "name": "python",
   "nbconvert_exporter": "python",
   "pygments_lexer": "ipython3",
   "version": "3.8.11"
  }
 },
 "nbformat": 4,
 "nbformat_minor": 5
}
