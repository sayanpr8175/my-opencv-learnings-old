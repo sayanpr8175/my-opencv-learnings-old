{
 "cells": [
  {
   "cell_type": "code",
   "execution_count": 1,
   "id": "61826006",
   "metadata": {},
   "outputs": [],
   "source": [
    "import cv2\n",
    "import numpy as np\n"
   ]
  },
  {
   "cell_type": "code",
   "execution_count": 37,
   "id": "468e9d79",
   "metadata": {},
   "outputs": [
    {
     "name": "stdout",
     "output_type": "stream",
     "text": [
      "Enter decryption key, whatever you received when you encoded the imageX1300A1B49\n",
      "kfjjkbgn  bdgvjkdnsgvjhdjgv gbjsddghsdkghgkdhdhzZ\n"
     ]
    }
   ],
   "source": [
    "image = cv2.imread('encodedimage.png')\n",
    "image_cpy = image.copy()\n",
    "keyrange_1 = int(image.shape[0])\n",
    "keyrange_2 = int(image.shape[1])\n",
    "\n",
    "XKey = input(\"Enter decryption key, whatever you received when you encoded the image\")\n",
    "\n",
    "#print(XKey)\n",
    "#XKey.split(\"A\")\n",
    "rowKey = int(XKey.split(\"A\")[0].split(\"X\")[1])\n",
    "colKey_1 = int(XKey.split(\"A\")[1].split(\"B\")[0])\n",
    "colKey_2 = int(XKey.split(\"A\")[1].split(\"B\")[1])\n",
    "\n",
    "msg = ''\n",
    "\n",
    "for col in range(colKey_1, colKey_2+1) :\n",
    "    msg+=chr(image[rowKey][col][0])\n",
    "\n",
    "print(msg)\n"
   ]
  },
  {
   "cell_type": "code",
   "execution_count": null,
   "id": "c8b17696",
   "metadata": {},
   "outputs": [],
   "source": []
  },
  {
   "cell_type": "code",
   "execution_count": null,
   "id": "6d5f50cb",
   "metadata": {},
   "outputs": [],
   "source": []
  },
  {
   "cell_type": "code",
   "execution_count": null,
   "id": "15241903",
   "metadata": {},
   "outputs": [],
   "source": []
  },
  {
   "cell_type": "code",
   "execution_count": null,
   "id": "68f673f5",
   "metadata": {},
   "outputs": [],
   "source": []
  }
 ],
 "metadata": {
  "kernelspec": {
   "display_name": "Python 3 (ipykernel)",
   "language": "python",
   "name": "python3"
  },
  "language_info": {
   "codemirror_mode": {
    "name": "ipython",
    "version": 3
   },
   "file_extension": ".py",
   "mimetype": "text/x-python",
   "name": "python",
   "nbconvert_exporter": "python",
   "pygments_lexer": "ipython3",
   "version": "3.8.11"
  }
 },
 "nbformat": 4,
 "nbformat_minor": 5
}
